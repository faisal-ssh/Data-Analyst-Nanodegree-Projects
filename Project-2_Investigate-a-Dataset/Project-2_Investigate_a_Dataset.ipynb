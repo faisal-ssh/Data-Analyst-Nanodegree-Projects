{
 "cells": [
  {
   "cell_type": "markdown",
   "metadata": {},
   "source": [
    "# Project: Investigate a Dataset - No-show appointments\n",
    "\n",
    "## Table of Contents\n",
    "<ul>\n",
    "<li><a href=\"#intro\">Introduction</a></li>\n",
    "<li><a href=\"#wrangling\">Data Wrangling</a></li>\n",
    "<li><a href=\"#eda\">Exploratory Data Analysis</a></li>\n",
    "<li><a href=\"#conclusions\">Conclusions</a></li>\n",
    "</ul>"
   ]
  },
  {
   "cell_type": "markdown",
   "metadata": {},
   "source": [
    "<a id='intro'></a>\n",
    "## Introduction\n",
    "\n",
    "### Dataset Description \n",
    "> This dataset collects information from 100k medical appointments in Brazil and is focused on the question of whether or not patients show up for their appointment.<br>\n",
    "Source: https://www.kaggle.com/joniarroba/noshowappointments\n",
    "\n",
    "### Question(s) for Analysis\n",
    "\n",
    "> **Which appointment day has greater number of patients showing in the appointment ?**\n",
    "\n",
    "> **Does the difference between the scheduling day and appointemnt day contriubte to the probablity of showing in the appointment?**\n",
    "\n",
    "> **How is the trend of not-showing in the appointment over time ?**\n",
    "\n",
    "> **What characterstics are associated with patients showing in the appointment ?**"
   ]
  },
  {
   "cell_type": "markdown",
   "metadata": {},
   "source": [
    "# <a id='wrangling'></a>\n",
    "## Data Wrangling\n",
    "\n",
    "> In this section of the report, we will load in the data, check for cleanliness, and then trim and clean the dataset for analysis."
   ]
  },
  {
   "cell_type": "markdown",
   "metadata": {},
   "source": [
    "### Data Viewing\n",
    "> First, we will import required libraries and then veiw the data to have an initial understanding\n",
    "\n",
    "<br>The following is the data dictionary of the dataset that contains the columns and their definition:\n",
    "> **01 - PatientId<br>**\n",
    "Identification of a patient<br>\n",
    "**02 - AppointmentID<br>**\n",
    "Identification of each appointment<br>\n",
    "**03 - Gender<br>**\n",
    "Male or Female.<br>\n",
    "**04 - AppointmentDay<br>**\n",
    "The day of the actuall appointment, when they have to visit the doctor.<br>\n",
    "**05 - ScheduledDay<br>**\n",
    "The day someone called or registered the appointment, this is before appointment of course.<br>\n",
    "**06 - Age<br>**\n",
    "How old is the patient.<br>\n",
    "**07 - Neighbourhood<br>**\n",
    "Where the appointment takes place.<br>\n",
    "**08 - scholarship<br>**\n",
    "whether or not the patient is enrolled in Brasilian welfare program<br>\n",
    "**09 - hipertension<br>**\n",
    "whether or not the patient has hipertension<br>\n",
    "**10 - diabetes<br>**\n",
    "whether or not the patient has diabetes<br>\n",
    "**11 - alcoholism<br>**\n",
    "whether or not the patient is addicted to alcohol<br>\n",
    "**12 - handcap<br>**\n",
    "whether or not the patient has any handcap<br>\n",
    "**13 - sms_received<br>**\n",
    "whether or not the patient has received messages for the appointment<br>\n",
    "**14 - No-show<br>**\n",
    "Yes if patient didn't show, No if patient did .<br>"
   ]
  },
  {
   "cell_type": "code",
   "execution_count": 1,
   "metadata": {},
   "outputs": [],
   "source": [
    "# Importing required libraries for the analysis\n",
    "import numpy as np\n",
    "import pandas as pd\n",
    "import matplotlib.pyplot as plt\n",
    "import seaborn as sns\n",
    "%matplotlib inline"
   ]
  },
  {
   "cell_type": "code",
   "execution_count": 2,
   "metadata": {},
   "outputs": [
    {
     "data": {
      "text/html": [
       "<div>\n",
       "<style scoped>\n",
       "    .dataframe tbody tr th:only-of-type {\n",
       "        vertical-align: middle;\n",
       "    }\n",
       "\n",
       "    .dataframe tbody tr th {\n",
       "        vertical-align: top;\n",
       "    }\n",
       "\n",
       "    .dataframe thead th {\n",
       "        text-align: right;\n",
       "    }\n",
       "</style>\n",
       "<table border=\"1\" class=\"dataframe\">\n",
       "  <thead>\n",
       "    <tr style=\"text-align: right;\">\n",
       "      <th></th>\n",
       "      <th>PatientId</th>\n",
       "      <th>AppointmentID</th>\n",
       "      <th>Gender</th>\n",
       "      <th>ScheduledDay</th>\n",
       "      <th>AppointmentDay</th>\n",
       "      <th>Age</th>\n",
       "      <th>Neighbourhood</th>\n",
       "      <th>Scholarship</th>\n",
       "      <th>Hipertension</th>\n",
       "      <th>Diabetes</th>\n",
       "      <th>Alcoholism</th>\n",
       "      <th>Handcap</th>\n",
       "      <th>SMS_received</th>\n",
       "      <th>No-show</th>\n",
       "    </tr>\n",
       "  </thead>\n",
       "  <tbody>\n",
       "    <tr>\n",
       "      <th>0</th>\n",
       "      <td>2.987250e+13</td>\n",
       "      <td>5642903</td>\n",
       "      <td>F</td>\n",
       "      <td>2016-04-29T18:38:08Z</td>\n",
       "      <td>2016-04-29T00:00:00Z</td>\n",
       "      <td>62</td>\n",
       "      <td>JARDIM DA PENHA</td>\n",
       "      <td>0</td>\n",
       "      <td>1</td>\n",
       "      <td>0</td>\n",
       "      <td>0</td>\n",
       "      <td>0</td>\n",
       "      <td>0</td>\n",
       "      <td>No</td>\n",
       "    </tr>\n",
       "    <tr>\n",
       "      <th>1</th>\n",
       "      <td>5.589978e+14</td>\n",
       "      <td>5642503</td>\n",
       "      <td>M</td>\n",
       "      <td>2016-04-29T16:08:27Z</td>\n",
       "      <td>2016-04-29T00:00:00Z</td>\n",
       "      <td>56</td>\n",
       "      <td>JARDIM DA PENHA</td>\n",
       "      <td>0</td>\n",
       "      <td>0</td>\n",
       "      <td>0</td>\n",
       "      <td>0</td>\n",
       "      <td>0</td>\n",
       "      <td>0</td>\n",
       "      <td>No</td>\n",
       "    </tr>\n",
       "    <tr>\n",
       "      <th>2</th>\n",
       "      <td>4.262962e+12</td>\n",
       "      <td>5642549</td>\n",
       "      <td>F</td>\n",
       "      <td>2016-04-29T16:19:04Z</td>\n",
       "      <td>2016-04-29T00:00:00Z</td>\n",
       "      <td>62</td>\n",
       "      <td>MATA DA PRAIA</td>\n",
       "      <td>0</td>\n",
       "      <td>0</td>\n",
       "      <td>0</td>\n",
       "      <td>0</td>\n",
       "      <td>0</td>\n",
       "      <td>0</td>\n",
       "      <td>No</td>\n",
       "    </tr>\n",
       "    <tr>\n",
       "      <th>3</th>\n",
       "      <td>8.679512e+11</td>\n",
       "      <td>5642828</td>\n",
       "      <td>F</td>\n",
       "      <td>2016-04-29T17:29:31Z</td>\n",
       "      <td>2016-04-29T00:00:00Z</td>\n",
       "      <td>8</td>\n",
       "      <td>PONTAL DE CAMBURI</td>\n",
       "      <td>0</td>\n",
       "      <td>0</td>\n",
       "      <td>0</td>\n",
       "      <td>0</td>\n",
       "      <td>0</td>\n",
       "      <td>0</td>\n",
       "      <td>No</td>\n",
       "    </tr>\n",
       "    <tr>\n",
       "      <th>4</th>\n",
       "      <td>8.841186e+12</td>\n",
       "      <td>5642494</td>\n",
       "      <td>F</td>\n",
       "      <td>2016-04-29T16:07:23Z</td>\n",
       "      <td>2016-04-29T00:00:00Z</td>\n",
       "      <td>56</td>\n",
       "      <td>JARDIM DA PENHA</td>\n",
       "      <td>0</td>\n",
       "      <td>1</td>\n",
       "      <td>1</td>\n",
       "      <td>0</td>\n",
       "      <td>0</td>\n",
       "      <td>0</td>\n",
       "      <td>No</td>\n",
       "    </tr>\n",
       "  </tbody>\n",
       "</table>\n",
       "</div>"
      ],
      "text/plain": [
       "      PatientId  AppointmentID Gender          ScheduledDay  \\\n",
       "0  2.987250e+13        5642903      F  2016-04-29T18:38:08Z   \n",
       "1  5.589978e+14        5642503      M  2016-04-29T16:08:27Z   \n",
       "2  4.262962e+12        5642549      F  2016-04-29T16:19:04Z   \n",
       "3  8.679512e+11        5642828      F  2016-04-29T17:29:31Z   \n",
       "4  8.841186e+12        5642494      F  2016-04-29T16:07:23Z   \n",
       "\n",
       "         AppointmentDay  Age      Neighbourhood  Scholarship  Hipertension  \\\n",
       "0  2016-04-29T00:00:00Z   62    JARDIM DA PENHA            0             1   \n",
       "1  2016-04-29T00:00:00Z   56    JARDIM DA PENHA            0             0   \n",
       "2  2016-04-29T00:00:00Z   62      MATA DA PRAIA            0             0   \n",
       "3  2016-04-29T00:00:00Z    8  PONTAL DE CAMBURI            0             0   \n",
       "4  2016-04-29T00:00:00Z   56    JARDIM DA PENHA            0             1   \n",
       "\n",
       "   Diabetes  Alcoholism  Handcap  SMS_received No-show  \n",
       "0         0           0        0             0      No  \n",
       "1         0           0        0             0      No  \n",
       "2         0           0        0             0      No  \n",
       "3         0           0        0             0      No  \n",
       "4         1           0        0             0      No  "
      ]
     },
     "execution_count": 2,
     "metadata": {},
     "output_type": "execute_result"
    }
   ],
   "source": [
    "# Loading and viewing the data\n",
    "df_apnt = pd.read_csv('Database_No_show_appointments/noshowappointments-kagglev2-may-2016.csv')\n",
    "df_apnt.head()"
   ]
  },
  {
   "cell_type": "code",
   "execution_count": 3,
   "metadata": {},
   "outputs": [
    {
     "name": "stdout",
     "output_type": "stream",
     "text": [
      "<class 'pandas.core.frame.DataFrame'>\n",
      "RangeIndex: 110527 entries, 0 to 110526\n",
      "Data columns (total 14 columns):\n",
      "PatientId         110527 non-null float64\n",
      "AppointmentID     110527 non-null int64\n",
      "Gender            110527 non-null object\n",
      "ScheduledDay      110527 non-null object\n",
      "AppointmentDay    110527 non-null object\n",
      "Age               110527 non-null int64\n",
      "Neighbourhood     110527 non-null object\n",
      "Scholarship       110527 non-null int64\n",
      "Hipertension      110527 non-null int64\n",
      "Diabetes          110527 non-null int64\n",
      "Alcoholism        110527 non-null int64\n",
      "Handcap           110527 non-null int64\n",
      "SMS_received      110527 non-null int64\n",
      "No-show           110527 non-null object\n",
      "dtypes: float64(1), int64(8), object(5)\n",
      "memory usage: 11.8+ MB\n"
     ]
    }
   ],
   "source": [
    "# investigating the structure: #rows, #columns, data types, missing values\n",
    "df_apnt.info()"
   ]
  },
  {
   "cell_type": "code",
   "execution_count": 4,
   "metadata": {},
   "outputs": [
    {
     "data": {
      "text/plain": [
       "0"
      ]
     },
     "execution_count": 4,
     "metadata": {},
     "output_type": "execute_result"
    }
   ],
   "source": [
    "# checking for duplicates\n",
    "sum(df_apnt.duplicated())"
   ]
  },
  {
   "cell_type": "markdown",
   "metadata": {},
   "source": [
    "### Remarks\n",
    "> The data looks neat, there are no missing values and no duplicates. However, some data types need to be corrected.<br>\n",
    "Also, columns names will be modified."
   ]
  },
  {
   "cell_type": "markdown",
   "metadata": {},
   "source": [
    "\n",
    "### Data Cleaning\n",
    "> Now, we will clean the data by changing the column names to lowercase and dashes to underscores for smoother analysis<br>and then fixing data types for the patientid, appoinhtmentid, scheduledday, appointmentday\n",
    " "
   ]
  },
  {
   "cell_type": "code",
   "execution_count": 5,
   "metadata": {},
   "outputs": [
    {
     "data": {
      "text/plain": [
       "Index(['patientid', 'appointmentid', 'gender', 'scheduledday',\n",
       "       'appointmentday', 'age', 'neighbourhood', 'scholarship', 'hipertension',\n",
       "       'diabetes', 'alcoholism', 'handcap', 'sms_received', 'no_show'],\n",
       "      dtype='object')"
      ]
     },
     "execution_count": 5,
     "metadata": {},
     "output_type": "execute_result"
    }
   ],
   "source": [
    "# changing columns to lowercase and dash to underscore\n",
    "df_apnt.rename(columns = lambda x: x.lower().replace('-','_'), inplace=True)\n",
    "df_apnt.columns"
   ]
  },
  {
   "cell_type": "code",
   "execution_count": 6,
   "metadata": {},
   "outputs": [
    {
     "name": "stdout",
     "output_type": "stream",
     "text": [
      "<class 'pandas.core.frame.DataFrame'>\n",
      "RangeIndex: 110527 entries, 0 to 110526\n",
      "Data columns (total 14 columns):\n",
      "patientid         110527 non-null object\n",
      "appointmentid     110527 non-null object\n",
      "gender            110527 non-null object\n",
      "scheduledday      110527 non-null datetime64[ns]\n",
      "appointmentday    110527 non-null datetime64[ns]\n",
      "age               110527 non-null int64\n",
      "neighbourhood     110527 non-null object\n",
      "scholarship       110527 non-null int64\n",
      "hipertension      110527 non-null int64\n",
      "diabetes          110527 non-null int64\n",
      "alcoholism        110527 non-null int64\n",
      "handcap           110527 non-null int64\n",
      "sms_received      110527 non-null int64\n",
      "no_show           110527 non-null object\n",
      "dtypes: datetime64[ns](2), int64(7), object(5)\n",
      "memory usage: 11.8+ MB\n"
     ]
    }
   ],
   "source": [
    "# Fixing data types\n",
    "def apply_typ_to_col(df, typ_col_dic):\n",
    "    '''\n",
    "    Modify the types of dataframe columns from the type and column pairs of the dictionary\n",
    "    \n",
    "        Parameters:\n",
    "            df (dataframe): its columns will be modifed based on the type and column dictionary\n",
    "            typ_col_dic (dictionary): contains the type-column pairs where type is a singel value, column is a list\n",
    "            \n",
    "        Returns:\n",
    "            df (dataframe): the modifed dataframe\n",
    "    '''\n",
    "    for typ, col_list in typ_col_dic.items():  \n",
    "        for col in col_list:\n",
    "            df[col] = df[col].astype(typ)\n",
    "    return df\n",
    "\n",
    "typ_col_dic = {'int':['patientid'], # for patient id, first convert to int to get rid of decimals and then to string\n",
    "               'str':['patientid', 'appointmentid'],\n",
    "               'datetime64[ns]':['scheduledday', 'appointmentday']}\n",
    "df_apnt = apply_typ_to_col(df_apnt, typ_col_dic)\n",
    "df_apnt.info()"
   ]
  },
  {
   "cell_type": "markdown",
   "metadata": {},
   "source": [
    "### Remarks\n",
    "<br>\n",
    "\n",
    "**Modifications Performed:**\n",
    "<ul>\n",
    "<li>Column names have been modifed to lowercase and dashes to underscores<br><br>\n",
    "<li>The data type for some fields have been changed as following:<br>\n",
    "patientid         : from float to int to string (first to int to get rid of decimal part)<br>\n",
    "appointmentid     : from integer to string<br>\n",
    "scheduledday      : from string to date<br>\n",
    "appointmentday    : from string to date<br>"
   ]
  },
  {
   "cell_type": "markdown",
   "metadata": {},
   "source": [
    "<a id='eda'></a>\n",
    "## Exploratory Data Analysis\n",
    "\n",
    "> Now that we have trimmed and cleaned the data, we will move on to exploration by computing statistics and creating visualizations. \n",
    "\n",
    "### Research Question 1<br>Which appointment day has greater number of patients showing in the appointment ?<br>\n",
    "> To investigate this question, we will create a new column that shows the name of the week day from the appointment day\n"
   ]
  },
  {
   "cell_type": "code",
   "execution_count": 7,
   "metadata": {
    "scrolled": true
   },
   "outputs": [
    {
     "data": {
      "text/html": [
       "<div>\n",
       "<style scoped>\n",
       "    .dataframe tbody tr th:only-of-type {\n",
       "        vertical-align: middle;\n",
       "    }\n",
       "\n",
       "    .dataframe tbody tr th {\n",
       "        vertical-align: top;\n",
       "    }\n",
       "\n",
       "    .dataframe thead th {\n",
       "        text-align: right;\n",
       "    }\n",
       "</style>\n",
       "<table border=\"1\" class=\"dataframe\">\n",
       "  <thead>\n",
       "    <tr style=\"text-align: right;\">\n",
       "      <th></th>\n",
       "      <th>patientid</th>\n",
       "      <th>appointmentid</th>\n",
       "      <th>gender</th>\n",
       "      <th>scheduledday</th>\n",
       "      <th>appointmentday</th>\n",
       "      <th>age</th>\n",
       "      <th>neighbourhood</th>\n",
       "      <th>scholarship</th>\n",
       "      <th>hipertension</th>\n",
       "      <th>diabetes</th>\n",
       "      <th>alcoholism</th>\n",
       "      <th>handcap</th>\n",
       "      <th>sms_received</th>\n",
       "      <th>no_show</th>\n",
       "      <th>apnt_day_name</th>\n",
       "    </tr>\n",
       "  </thead>\n",
       "  <tbody>\n",
       "    <tr>\n",
       "      <th>0</th>\n",
       "      <td>29872499824296</td>\n",
       "      <td>5642903</td>\n",
       "      <td>F</td>\n",
       "      <td>2016-04-29 18:38:08</td>\n",
       "      <td>2016-04-29</td>\n",
       "      <td>62</td>\n",
       "      <td>JARDIM DA PENHA</td>\n",
       "      <td>0</td>\n",
       "      <td>1</td>\n",
       "      <td>0</td>\n",
       "      <td>0</td>\n",
       "      <td>0</td>\n",
       "      <td>0</td>\n",
       "      <td>No</td>\n",
       "      <td>Friday</td>\n",
       "    </tr>\n",
       "    <tr>\n",
       "      <th>1</th>\n",
       "      <td>558997776694438</td>\n",
       "      <td>5642503</td>\n",
       "      <td>M</td>\n",
       "      <td>2016-04-29 16:08:27</td>\n",
       "      <td>2016-04-29</td>\n",
       "      <td>56</td>\n",
       "      <td>JARDIM DA PENHA</td>\n",
       "      <td>0</td>\n",
       "      <td>0</td>\n",
       "      <td>0</td>\n",
       "      <td>0</td>\n",
       "      <td>0</td>\n",
       "      <td>0</td>\n",
       "      <td>No</td>\n",
       "      <td>Friday</td>\n",
       "    </tr>\n",
       "    <tr>\n",
       "      <th>2</th>\n",
       "      <td>4262962299951</td>\n",
       "      <td>5642549</td>\n",
       "      <td>F</td>\n",
       "      <td>2016-04-29 16:19:04</td>\n",
       "      <td>2016-04-29</td>\n",
       "      <td>62</td>\n",
       "      <td>MATA DA PRAIA</td>\n",
       "      <td>0</td>\n",
       "      <td>0</td>\n",
       "      <td>0</td>\n",
       "      <td>0</td>\n",
       "      <td>0</td>\n",
       "      <td>0</td>\n",
       "      <td>No</td>\n",
       "      <td>Friday</td>\n",
       "    </tr>\n",
       "    <tr>\n",
       "      <th>3</th>\n",
       "      <td>867951213174</td>\n",
       "      <td>5642828</td>\n",
       "      <td>F</td>\n",
       "      <td>2016-04-29 17:29:31</td>\n",
       "      <td>2016-04-29</td>\n",
       "      <td>8</td>\n",
       "      <td>PONTAL DE CAMBURI</td>\n",
       "      <td>0</td>\n",
       "      <td>0</td>\n",
       "      <td>0</td>\n",
       "      <td>0</td>\n",
       "      <td>0</td>\n",
       "      <td>0</td>\n",
       "      <td>No</td>\n",
       "      <td>Friday</td>\n",
       "    </tr>\n",
       "    <tr>\n",
       "      <th>4</th>\n",
       "      <td>8841186448183</td>\n",
       "      <td>5642494</td>\n",
       "      <td>F</td>\n",
       "      <td>2016-04-29 16:07:23</td>\n",
       "      <td>2016-04-29</td>\n",
       "      <td>56</td>\n",
       "      <td>JARDIM DA PENHA</td>\n",
       "      <td>0</td>\n",
       "      <td>1</td>\n",
       "      <td>1</td>\n",
       "      <td>0</td>\n",
       "      <td>0</td>\n",
       "      <td>0</td>\n",
       "      <td>No</td>\n",
       "      <td>Friday</td>\n",
       "    </tr>\n",
       "  </tbody>\n",
       "</table>\n",
       "</div>"
      ],
      "text/plain": [
       "         patientid appointmentid gender        scheduledday appointmentday  \\\n",
       "0   29872499824296       5642903      F 2016-04-29 18:38:08     2016-04-29   \n",
       "1  558997776694438       5642503      M 2016-04-29 16:08:27     2016-04-29   \n",
       "2    4262962299951       5642549      F 2016-04-29 16:19:04     2016-04-29   \n",
       "3     867951213174       5642828      F 2016-04-29 17:29:31     2016-04-29   \n",
       "4    8841186448183       5642494      F 2016-04-29 16:07:23     2016-04-29   \n",
       "\n",
       "   age      neighbourhood  scholarship  hipertension  diabetes  alcoholism  \\\n",
       "0   62    JARDIM DA PENHA            0             1         0           0   \n",
       "1   56    JARDIM DA PENHA            0             0         0           0   \n",
       "2   62      MATA DA PRAIA            0             0         0           0   \n",
       "3    8  PONTAL DE CAMBURI            0             0         0           0   \n",
       "4   56    JARDIM DA PENHA            0             1         1           0   \n",
       "\n",
       "   handcap  sms_received no_show apnt_day_name  \n",
       "0        0             0      No        Friday  \n",
       "1        0             0      No        Friday  \n",
       "2        0             0      No        Friday  \n",
       "3        0             0      No        Friday  \n",
       "4        0             0      No        Friday  "
      ]
     },
     "execution_count": 7,
     "metadata": {},
     "output_type": "execute_result"
    }
   ],
   "source": [
    "# extracting and creating a new column for the day of week from the date of the appointment \n",
    "df_apnt['apnt_day_name'] = df_apnt['appointmentday'].dt.day_name()\n",
    "df_apnt.head()"
   ]
  },
  {
   "cell_type": "markdown",
   "metadata": {},
   "source": [
    "### Remarks\n",
    "> Now we have added a new field for the day of the week of the appointment day which we will be using to compare its not-showing rate to other days"
   ]
  },
  {
   "cell_type": "code",
   "execution_count": 8,
   "metadata": {
    "scrolled": true
   },
   "outputs": [
    {
     "data": {
      "image/png": "[encoded data removed]",
      "text/plain": [
       "<matplotlib.figure.Figure at 0x7f7baa9321d0>"
      ]
     },
     "metadata": {
      "needs_background": "light"
     },
     "output_type": "display_data"
    }
   ],
   "source": [
    "# create a list of week days for all available appointment days and calculate the percentages of not-showing rate for each\n",
    "plt.figure(figsize=(10,5))\n",
    "apnt_days = df_apnt.groupby('apnt_day_name').sum().index\n",
    "height = [(df_apnt.query('apnt_day_name == @x and no_show == \"Yes\"').shape[0]\n",
    "          / df_apnt.query('apnt_day_name == @x').shape[0]) * 100 for x in apnt_days]\n",
    "plt.bar(x=apnt_days, height=height)\n",
    "plt.title('Not-Showing Percentages by Week Day')\n",
    "plt.xlabel('Week Days')\n",
    "plt.ylabel('Percentages %');"
   ]
  },
  {
   "cell_type": "markdown",
   "metadata": {},
   "source": [
    "### Remarks\n",
    "> It appears that the weekend (Saturday) has the highest not-showing rate compared to the weekdays (Monday to Friday). This is probably becasue that people tend to leave home and enjoy weekends away.<br>Also, it seems that there no appointments on Sundays."
   ]
  },
  {
   "cell_type": "markdown",
   "metadata": {},
   "source": [
    "### Research Question 2<br>Does the difference between the scheduling day and appointemnt day contriubte to the probablity of showing in the appointment?<br>\n",
    "> To investigate this question, we will create a new column and calcualte the days difference between the two days"
   ]
  },
  {
   "cell_type": "code",
   "execution_count": 9,
   "metadata": {
    "scrolled": true
   },
   "outputs": [
    {
     "data": {
      "text/html": [
       "<div>\n",
       "<style scoped>\n",
       "    .dataframe tbody tr th:only-of-type {\n",
       "        vertical-align: middle;\n",
       "    }\n",
       "\n",
       "    .dataframe tbody tr th {\n",
       "        vertical-align: top;\n",
       "    }\n",
       "\n",
       "    .dataframe thead th {\n",
       "        text-align: right;\n",
       "    }\n",
       "</style>\n",
       "<table border=\"1\" class=\"dataframe\">\n",
       "  <thead>\n",
       "    <tr style=\"text-align: right;\">\n",
       "      <th></th>\n",
       "      <th>patientid</th>\n",
       "      <th>appointmentid</th>\n",
       "      <th>gender</th>\n",
       "      <th>scheduledday</th>\n",
       "      <th>appointmentday</th>\n",
       "      <th>age</th>\n",
       "      <th>neighbourhood</th>\n",
       "      <th>scholarship</th>\n",
       "      <th>hipertension</th>\n",
       "      <th>diabetes</th>\n",
       "      <th>alcoholism</th>\n",
       "      <th>handcap</th>\n",
       "      <th>sms_received</th>\n",
       "      <th>no_show</th>\n",
       "      <th>apnt_day_name</th>\n",
       "      <th>schd_to_apnt_days</th>\n",
       "    </tr>\n",
       "  </thead>\n",
       "  <tbody>\n",
       "    <tr>\n",
       "      <th>0</th>\n",
       "      <td>29872499824296</td>\n",
       "      <td>5642903</td>\n",
       "      <td>F</td>\n",
       "      <td>2016-04-29 18:38:08</td>\n",
       "      <td>2016-04-29</td>\n",
       "      <td>62</td>\n",
       "      <td>JARDIM DA PENHA</td>\n",
       "      <td>0</td>\n",
       "      <td>1</td>\n",
       "      <td>0</td>\n",
       "      <td>0</td>\n",
       "      <td>0</td>\n",
       "      <td>0</td>\n",
       "      <td>No</td>\n",
       "      <td>Friday</td>\n",
       "      <td>0</td>\n",
       "    </tr>\n",
       "    <tr>\n",
       "      <th>1</th>\n",
       "      <td>558997776694438</td>\n",
       "      <td>5642503</td>\n",
       "      <td>M</td>\n",
       "      <td>2016-04-29 16:08:27</td>\n",
       "      <td>2016-04-29</td>\n",
       "      <td>56</td>\n",
       "      <td>JARDIM DA PENHA</td>\n",
       "      <td>0</td>\n",
       "      <td>0</td>\n",
       "      <td>0</td>\n",
       "      <td>0</td>\n",
       "      <td>0</td>\n",
       "      <td>0</td>\n",
       "      <td>No</td>\n",
       "      <td>Friday</td>\n",
       "      <td>0</td>\n",
       "    </tr>\n",
       "    <tr>\n",
       "      <th>2</th>\n",
       "      <td>4262962299951</td>\n",
       "      <td>5642549</td>\n",
       "      <td>F</td>\n",
       "      <td>2016-04-29 16:19:04</td>\n",
       "      <td>2016-04-29</td>\n",
       "      <td>62</td>\n",
       "      <td>MATA DA PRAIA</td>\n",
       "      <td>0</td>\n",
       "      <td>0</td>\n",
       "      <td>0</td>\n",
       "      <td>0</td>\n",
       "      <td>0</td>\n",
       "      <td>0</td>\n",
       "      <td>No</td>\n",
       "      <td>Friday</td>\n",
       "      <td>0</td>\n",
       "    </tr>\n",
       "    <tr>\n",
       "      <th>3</th>\n",
       "      <td>867951213174</td>\n",
       "      <td>5642828</td>\n",
       "      <td>F</td>\n",
       "      <td>2016-04-29 17:29:31</td>\n",
       "      <td>2016-04-29</td>\n",
       "      <td>8</td>\n",
       "      <td>PONTAL DE CAMBURI</td>\n",
       "      <td>0</td>\n",
       "      <td>0</td>\n",
       "      <td>0</td>\n",
       "      <td>0</td>\n",
       "      <td>0</td>\n",
       "      <td>0</td>\n",
       "      <td>No</td>\n",
       "      <td>Friday</td>\n",
       "      <td>0</td>\n",
       "    </tr>\n",
       "    <tr>\n",
       "      <th>4</th>\n",
       "      <td>8841186448183</td>\n",
       "      <td>5642494</td>\n",
       "      <td>F</td>\n",
       "      <td>2016-04-29 16:07:23</td>\n",
       "      <td>2016-04-29</td>\n",
       "      <td>56</td>\n",
       "      <td>JARDIM DA PENHA</td>\n",
       "      <td>0</td>\n",
       "      <td>1</td>\n",
       "      <td>1</td>\n",
       "      <td>0</td>\n",
       "      <td>0</td>\n",
       "      <td>0</td>\n",
       "      <td>No</td>\n",
       "      <td>Friday</td>\n",
       "      <td>0</td>\n",
       "    </tr>\n",
       "  </tbody>\n",
       "</table>\n",
       "</div>"
      ],
      "text/plain": [
       "         patientid appointmentid gender        scheduledday appointmentday  \\\n",
       "0   29872499824296       5642903      F 2016-04-29 18:38:08     2016-04-29   \n",
       "1  558997776694438       5642503      M 2016-04-29 16:08:27     2016-04-29   \n",
       "2    4262962299951       5642549      F 2016-04-29 16:19:04     2016-04-29   \n",
       "3     867951213174       5642828      F 2016-04-29 17:29:31     2016-04-29   \n",
       "4    8841186448183       5642494      F 2016-04-29 16:07:23     2016-04-29   \n",
       "\n",
       "   age      neighbourhood  scholarship  hipertension  diabetes  alcoholism  \\\n",
       "0   62    JARDIM DA PENHA            0             1         0           0   \n",
       "1   56    JARDIM DA PENHA            0             0         0           0   \n",
       "2   62      MATA DA PRAIA            0             0         0           0   \n",
       "3    8  PONTAL DE CAMBURI            0             0         0           0   \n",
       "4   56    JARDIM DA PENHA            0             1         1           0   \n",
       "\n",
       "   handcap  sms_received no_show apnt_day_name  schd_to_apnt_days  \n",
       "0        0             0      No        Friday                  0  \n",
       "1        0             0      No        Friday                  0  \n",
       "2        0             0      No        Friday                  0  \n",
       "3        0             0      No        Friday                  0  \n",
       "4        0             0      No        Friday                  0  "
      ]
     },
     "execution_count": 9,
     "metadata": {},
     "output_type": "execute_result"
    }
   ],
   "source": [
    "def calculate_date_diff(df, end_date, start_date, ignore_time=True):\n",
    "    '''\n",
    "    Calculate the difference between two dates with an option to include/exclude the time between the two dates.\n",
    "    \n",
    "        Parameters:\n",
    "            df (dataframe): the dataframe that will be modified\n",
    "            end_date (string): is the end date column from the dataframe\n",
    "            start_date (string): is the start date column from the dataframe\n",
    "            ignore_time (boolean): to exclude or include the time in the calculation, defaulted to exclude\n",
    "            \n",
    "        Returns:\n",
    "            diff (series): the series that contain the list of days difference\n",
    "    '''\n",
    "    diff = None\n",
    "    if ignore_time:\n",
    "        diff = (df[end_date].apply(lambda x: x.date()) - df[start_date].apply(lambda x: x.date())).dt.days\n",
    "    else:\n",
    "        diff = (df[end_date] - df[start_date]).dt.days\n",
    "    return diff\n",
    "\n",
    "# creating a new column that hold the days difference between the scheduling day and appointment day\n",
    "df_apnt['schd_to_apnt_days'] = calculate_date_diff(df_apnt, 'appointmentday', 'scheduledday') \n",
    "df_apnt.head()"
   ]
  },
  {
   "cell_type": "markdown",
   "metadata": {},
   "source": [
    "### Remarks\n",
    "> We have added a new column to show the day difference between the scheduling and appointment day which will be used to see how the difference affects the probablity that patients show in the appointment.<br>\n",
    "(Scheduling and appointment that are on the same day will show a difference of 0 regardless of the time between the two)<br><br>\n",
    "Next, we will have a look at some statistics of the new column"
   ]
  },
  {
   "cell_type": "code",
   "execution_count": 10,
   "metadata": {
    "scrolled": true
   },
   "outputs": [
    {
     "data": {
      "text/plain": [
       "count    110527.000000\n",
       "mean         10.183702\n",
       "std          15.254996\n",
       "min          -6.000000\n",
       "25%           0.000000\n",
       "50%           4.000000\n",
       "75%          15.000000\n",
       "max         179.000000\n",
       "Name: schd_to_apnt_days, dtype: float64"
      ]
     },
     "execution_count": 10,
     "metadata": {},
     "output_type": "execute_result"
    }
   ],
   "source": [
    "df_apnt['schd_to_apnt_days'].describe()"
   ]
  },
  {
   "cell_type": "markdown",
   "metadata": {},
   "source": [
    "### Remarks\n",
    "> There is a strange value observed. The min value is less than 0 which means that the schedluing day is later than the appointment day. Clearly, this is a typo since this cannot be correct.\n",
    "<br><br>\n",
    "We will look if there are any other values less than 0"
   ]
  },
  {
   "cell_type": "code",
   "execution_count": 11,
   "metadata": {
    "scrolled": true
   },
   "outputs": [
    {
     "data": {
      "text/html": [
       "<div>\n",
       "<style scoped>\n",
       "    .dataframe tbody tr th:only-of-type {\n",
       "        vertical-align: middle;\n",
       "    }\n",
       "\n",
       "    .dataframe tbody tr th {\n",
       "        vertical-align: top;\n",
       "    }\n",
       "\n",
       "    .dataframe thead th {\n",
       "        text-align: right;\n",
       "    }\n",
       "</style>\n",
       "<table border=\"1\" class=\"dataframe\">\n",
       "  <thead>\n",
       "    <tr style=\"text-align: right;\">\n",
       "      <th></th>\n",
       "      <th>patientid</th>\n",
       "      <th>appointmentid</th>\n",
       "      <th>gender</th>\n",
       "      <th>scheduledday</th>\n",
       "      <th>appointmentday</th>\n",
       "      <th>age</th>\n",
       "      <th>neighbourhood</th>\n",
       "      <th>scholarship</th>\n",
       "      <th>hipertension</th>\n",
       "      <th>diabetes</th>\n",
       "      <th>alcoholism</th>\n",
       "      <th>handcap</th>\n",
       "      <th>sms_received</th>\n",
       "      <th>no_show</th>\n",
       "      <th>apnt_day_name</th>\n",
       "      <th>schd_to_apnt_days</th>\n",
       "    </tr>\n",
       "  </thead>\n",
       "  <tbody>\n",
       "    <tr>\n",
       "      <th>27033</th>\n",
       "      <td>7839272661752</td>\n",
       "      <td>5679978</td>\n",
       "      <td>M</td>\n",
       "      <td>2016-05-10 10:51:53</td>\n",
       "      <td>2016-05-09</td>\n",
       "      <td>38</td>\n",
       "      <td>RESISTÊNCIA</td>\n",
       "      <td>0</td>\n",
       "      <td>0</td>\n",
       "      <td>0</td>\n",
       "      <td>0</td>\n",
       "      <td>1</td>\n",
       "      <td>0</td>\n",
       "      <td>Yes</td>\n",
       "      <td>Monday</td>\n",
       "      <td>-1</td>\n",
       "    </tr>\n",
       "    <tr>\n",
       "      <th>55226</th>\n",
       "      <td>7896293967868</td>\n",
       "      <td>5715660</td>\n",
       "      <td>F</td>\n",
       "      <td>2016-05-18 14:50:41</td>\n",
       "      <td>2016-05-17</td>\n",
       "      <td>19</td>\n",
       "      <td>SANTO ANTÔNIO</td>\n",
       "      <td>0</td>\n",
       "      <td>0</td>\n",
       "      <td>0</td>\n",
       "      <td>0</td>\n",
       "      <td>1</td>\n",
       "      <td>0</td>\n",
       "      <td>Yes</td>\n",
       "      <td>Tuesday</td>\n",
       "      <td>-1</td>\n",
       "    </tr>\n",
       "    <tr>\n",
       "      <th>64175</th>\n",
       "      <td>24252258389979</td>\n",
       "      <td>5664962</td>\n",
       "      <td>F</td>\n",
       "      <td>2016-05-05 13:43:58</td>\n",
       "      <td>2016-05-04</td>\n",
       "      <td>22</td>\n",
       "      <td>CONSOLAÇÃO</td>\n",
       "      <td>0</td>\n",
       "      <td>0</td>\n",
       "      <td>0</td>\n",
       "      <td>0</td>\n",
       "      <td>0</td>\n",
       "      <td>0</td>\n",
       "      <td>Yes</td>\n",
       "      <td>Wednesday</td>\n",
       "      <td>-1</td>\n",
       "    </tr>\n",
       "    <tr>\n",
       "      <th>71533</th>\n",
       "      <td>998231581612122</td>\n",
       "      <td>5686628</td>\n",
       "      <td>F</td>\n",
       "      <td>2016-05-11 13:49:20</td>\n",
       "      <td>2016-05-05</td>\n",
       "      <td>81</td>\n",
       "      <td>SANTO ANTÔNIO</td>\n",
       "      <td>0</td>\n",
       "      <td>0</td>\n",
       "      <td>0</td>\n",
       "      <td>0</td>\n",
       "      <td>0</td>\n",
       "      <td>0</td>\n",
       "      <td>Yes</td>\n",
       "      <td>Thursday</td>\n",
       "      <td>-6</td>\n",
       "    </tr>\n",
       "    <tr>\n",
       "      <th>72362</th>\n",
       "      <td>3787481966821</td>\n",
       "      <td>5655637</td>\n",
       "      <td>M</td>\n",
       "      <td>2016-05-04 06:50:57</td>\n",
       "      <td>2016-05-03</td>\n",
       "      <td>7</td>\n",
       "      <td>TABUAZEIRO</td>\n",
       "      <td>0</td>\n",
       "      <td>0</td>\n",
       "      <td>0</td>\n",
       "      <td>0</td>\n",
       "      <td>0</td>\n",
       "      <td>0</td>\n",
       "      <td>Yes</td>\n",
       "      <td>Tuesday</td>\n",
       "      <td>-1</td>\n",
       "    </tr>\n",
       "  </tbody>\n",
       "</table>\n",
       "</div>"
      ],
      "text/plain": [
       "             patientid appointmentid gender        scheduledday  \\\n",
       "27033    7839272661752       5679978      M 2016-05-10 10:51:53   \n",
       "55226    7896293967868       5715660      F 2016-05-18 14:50:41   \n",
       "64175   24252258389979       5664962      F 2016-05-05 13:43:58   \n",
       "71533  998231581612122       5686628      F 2016-05-11 13:49:20   \n",
       "72362    3787481966821       5655637      M 2016-05-04 06:50:57   \n",
       "\n",
       "      appointmentday  age  neighbourhood  scholarship  hipertension  diabetes  \\\n",
       "27033     2016-05-09   38    RESISTÊNCIA            0             0         0   \n",
       "55226     2016-05-17   19  SANTO ANTÔNIO            0             0         0   \n",
       "64175     2016-05-04   22     CONSOLAÇÃO            0             0         0   \n",
       "71533     2016-05-05   81  SANTO ANTÔNIO            0             0         0   \n",
       "72362     2016-05-03    7     TABUAZEIRO            0             0         0   \n",
       "\n",
       "       alcoholism  handcap  sms_received no_show apnt_day_name  \\\n",
       "27033           0        1             0     Yes        Monday   \n",
       "55226           0        1             0     Yes       Tuesday   \n",
       "64175           0        0             0     Yes     Wednesday   \n",
       "71533           0        0             0     Yes      Thursday   \n",
       "72362           0        0             0     Yes       Tuesday   \n",
       "\n",
       "       schd_to_apnt_days  \n",
       "27033                 -1  \n",
       "55226                 -1  \n",
       "64175                 -1  \n",
       "71533                 -6  \n",
       "72362                 -1  "
      ]
     },
     "execution_count": 11,
     "metadata": {},
     "output_type": "execute_result"
    }
   ],
   "source": [
    "df_apnt.query('schd_to_apnt_days < 0')"
   ]
  },
  {
   "cell_type": "code",
   "execution_count": 12,
   "metadata": {},
   "outputs": [
    {
     "data": {
      "text/plain": [
       "5"
      ]
     },
     "execution_count": 12,
     "metadata": {},
     "output_type": "execute_result"
    }
   ],
   "source": [
    "df_apnt.query('schd_to_apnt_days < 0').shape[0]"
   ]
  },
  {
   "cell_type": "code",
   "execution_count": 13,
   "metadata": {},
   "outputs": [
    {
     "data": {
      "text/plain": [
       "0.004523781519447737"
      ]
     },
     "execution_count": 13,
     "metadata": {},
     "output_type": "execute_result"
    }
   ],
   "source": [
    "(df_apnt.query('schd_to_apnt_days < 0').shape[0] / df_apnt.shape[0]) * 100"
   ]
  },
  {
   "cell_type": "markdown",
   "metadata": {},
   "source": [
    "### Remarks\n",
    "> Luckily, there are only 5 records having the scheduling day after the appointment day.<br>\n",
    "Since we have so much data, they are basically nothing (0.0045%) and we can safely remove them.\n",
    "<br><br>\n",
    "Let's now look at the statistics after removing these 5 records."
   ]
  },
  {
   "cell_type": "code",
   "execution_count": 14,
   "metadata": {},
   "outputs": [
    {
     "data": {
      "text/plain": [
       "0"
      ]
     },
     "execution_count": 14,
     "metadata": {},
     "output_type": "execute_result"
    }
   ],
   "source": [
    "df_apnt = df_apnt[df_apnt['schd_to_apnt_days'] >= 0]\n",
    "df_apnt.query('schd_to_apnt_days < 0').shape[0]"
   ]
  },
  {
   "cell_type": "code",
   "execution_count": 15,
   "metadata": {},
   "outputs": [
    {
     "data": {
      "text/plain": [
       "count    110522.000000\n",
       "mean         10.184253\n",
       "std          15.255115\n",
       "min           0.000000\n",
       "25%           0.000000\n",
       "50%           4.000000\n",
       "75%          15.000000\n",
       "max         179.000000\n",
       "Name: schd_to_apnt_days, dtype: float64"
      ]
     },
     "execution_count": 15,
     "metadata": {},
     "output_type": "execute_result"
    }
   ],
   "source": [
    "diff_days_stats = df_apnt['schd_to_apnt_days'].describe()\n",
    "diff_days_stats"
   ]
  },
  {
   "cell_type": "markdown",
   "metadata": {},
   "source": [
    "### Remarks\n",
    "> Everyhing seems resonable.<br>\n",
    "Let's now graph the comparison chart"
   ]
  },
  {
   "cell_type": "code",
   "execution_count": 16,
   "metadata": {},
   "outputs": [
    {
     "data": {
      "image/png": "[encoded data removed]",
      "text/plain": [
       "<matplotlib.figure.Figure at 0x7f7bbccda630>"
      ]
     },
     "metadata": {
      "needs_background": "light"
     },
     "output_type": "display_data"
    }
   ],
   "source": [
    "def creat_quarters_groups(quarters, increment=0):\n",
    "    '''\n",
    "    Create 4 groups representing the quarters of min-25%, 25%-50%, 50%-75%, 75%-max of the data .\n",
    "    \n",
    "        Parameters:\n",
    "            quarters (list): a lis that contains the 4 quarters values of some data\n",
    "            increment (integer): a value used to exclude the end value of the previous\\\n",
    "                                 group not to be included in the next group\n",
    "            start_date (string): is the start date column from the dataframe\n",
    "            \n",
    "        Returns:\n",
    "            groups (list): list of tuples to define each group limits and it contain the 4 quarters tuples\n",
    "    '''\n",
    "    groups = []\n",
    "    for i in range(len(quarters)-1):\n",
    "        if i == 0:\n",
    "            groups.append((int(quarters[i]), int(quarters[i+1])))\n",
    "        else:\n",
    "            groups.append((int(quarters[i]+increment), int(quarters[i+1])))\n",
    "    return groups         \n",
    "\n",
    "# fill the groups and convert the groups to string to be used as bar lables\n",
    "quarters =  diff_days_stats[3:].values\n",
    "groups = creat_quarters_groups(quarters, 1)\n",
    "groups_string = [str(g) for g in groups]\n",
    "locations = [1, 2, 3, 4]\n",
    "\n",
    "# fill heights by taking the percentage of not-showing over the total not-showing for each group of the days difference column\n",
    "heights = []\n",
    "for group in groups:\n",
    "    heights.append((df_apnt.query('schd_to_apnt_days in @group and no_show == \"Yes\"').shape[0]\n",
    "                    / df_apnt.query('schd_to_apnt_days in @group').shape[0])*100)\n",
    "\n",
    "# plot the bar chart\n",
    "plt.bar(x=locations, height=heights, tick_label=groups_string)\n",
    "plt.title('Percentages of not-showing for each group of days difference\\nbetween scheduling and appointment days')\n",
    "plt.xlabel('Days Difference')\n",
    "plt.ylabel('Percenrages %');"
   ]
  },
  {
   "cell_type": "markdown",
   "metadata": {},
   "source": [
    "### Remarks\n",
    "This figure shows percentages of not-showing in the appointment for each group that represents the number of days difference between scheduling day and appointment day.<br>\n",
    "They are divided as follows:\n",
    "<br>(0, 0)    : a group that represents the lower 25% of the data which shows appointmetns that are scheduled on the same day\n",
    "<br>(1, 4)    : a group that represents 25%-50% of the data which shows appointmetns that have a difference between 1-4 dyas than the scheduled day\n",
    "<br>(5, 15)   : a group that represents 50%-75% of the data which shows appointmetns that have a difference between 5-15 dyas than the scheduled day\n",
    "<br>(16, 179) : a group that represents the upper 75% of the data which shows appointmetns that have a difference between 16-179 dyas than the scheduled day\n",
    "\n",
    "We can see that the appointments that are scheduled on the same day have lower percentages of not-showing and when the difference between the two dates grows, so does the not-showing rate"
   ]
  },
  {
   "cell_type": "markdown",
   "metadata": {},
   "source": [
    "### Research Question 3<br>How is the trend of not-showing in the appointment over time ?<br>\n",
    "> To investigate this question, we will create a new subset of the data for only not-showing records and then group by the appointment day and count the number of instances to get the trend over time"
   ]
  },
  {
   "cell_type": "code",
   "execution_count": 17,
   "metadata": {},
   "outputs": [
    {
     "data": {
      "image/png": "[encoded data removed]",
      "text/plain": [
       "<matplotlib.figure.Figure at 0x7f7ba7426668>"
      ]
     },
     "metadata": {
      "needs_background": "light"
     },
     "output_type": "display_data"
    }
   ],
   "source": [
    "no_show_over_time = df_apnt.query('no_show == \"Yes\"').groupby('appointmentday').count()\\\n",
    "                    .sort_values(by='appointmentday')['no_show']\n",
    "plt.figure(figsize=(10, 10))\n",
    "plt.plot_date(x=no_show_over_time.index, y=no_show_over_time.values, linestyle ='solid', markersize=0)\n",
    "plt.title('Number of Not-Showing Appointments Overtime'.title(), fontsize = 14, weight = \"bold\")\n",
    "# Add x label and format it\n",
    "plt.xlabel('Date'.title(),\n",
    "               fontsize = 10, weight = \"bold\")\n",
    "# Add y label and format it\n",
    "plt.ylabel('Number of Not-Showing Appointments'.title(),\n",
    "               fontsize = 10, weight = \"bold\");"
   ]
  },
  {
   "cell_type": "markdown",
   "metadata": {},
   "source": [
    "### Remarks\n",
    "> This plot does not look clear becasue of the below outlier value that is less than 200<br><br>\n",
    "It's better that we remove it by filtering for all values greater than 200"
   ]
  },
  {
   "cell_type": "code",
   "execution_count": 18,
   "metadata": {},
   "outputs": [
    {
     "data": {
      "image/png": "[encoded data removed]",
      "text/plain": [
       "<matplotlib.figure.Figure at 0x7f7ba74316a0>"
      ]
     },
     "metadata": {
      "needs_background": "light"
     },
     "output_type": "display_data"
    }
   ],
   "source": [
    "no_show_over_time = no_show_over_time[no_show_over_time > 200]\n",
    "plt.figure(figsize=(10, 10))\n",
    "plt.plot_date(x=no_show_over_time.index, y=no_show_over_time.values, linestyle ='solid', markersize=0)\n",
    "plt.title('Number of Not-Showing Appointments Overtime'.title(),\n",
    "               fontsize = 14, weight = \"bold\")\n",
    "# Add x label and format it\n",
    "plt.xlabel('Date'.title(),\n",
    "               fontsize = 10, weight = \"bold\")\n",
    "# Add y label and format it\n",
    "plt.ylabel('Number of Not-Showing Appointments'.title(),\n",
    "               fontsize = 10, weight = \"bold\");"
   ]
  },
  {
   "cell_type": "markdown",
   "metadata": {},
   "source": [
    "### Remarks\n",
    "> Now we have a clearer view of the trend.<br>\n",
    "we can see that there is an up-trend of the not-showing appointments starting a bit earlier before date 2016-05-01 until 2016-5-15. After that, the plot demonstrates a down-trend till the end of the period which means appointments showing rate have improved recently"
   ]
  },
  {
   "cell_type": "markdown",
   "metadata": {},
   "source": [
    "### Research Question 4<br>What characterstics are associated with patients showing in the appointment ?<br>\n",
    "> We will investigate this question by looking at the 6 characterstics that are represented as flag (0,1) which corresponds to yes or no.<br><br>\n",
    "**scholarship<br>**\n",
    "whether or not the patient is enrolled in Brasilian welfare program<br>\n",
    "**hipertension<br>**\n",
    "whether or not the patient has hipertension<br>\n",
    "**diabetes<br>**\n",
    "whether or not the patient has diabetes<br>\n",
    "**alcoholism<br>**\n",
    "whether or not the patient is addicted to alcohol<br>\n",
    "**handcap<br>**\n",
    "whether or not the patient has any handcap<br>\n",
    "**sms_received<br>**\n",
    "whether or not the patient has received messages for the appointment<br>\n",
    "<br>\n",
    "> We need to rearange the data so that each characteristic is shown with corresponding value of not-showing rates<br>\n",
    "Then, we wil normalize to have a more better view of the data"
   ]
  },
  {
   "cell_type": "code",
   "execution_count": 19,
   "metadata": {},
   "outputs": [
    {
     "data": {
      "image/png": "[encoded data removed]",
      "text/plain": [
       "<matplotlib.figure.Figure at 0x7f7ba731aef0>"
      ]
     },
     "metadata": {
      "needs_background": "light"
     },
     "output_type": "display_data"
    }
   ],
   "source": [
    "# including only the interested columns from the data and then melt by no_show column as id then calcualte\n",
    "# number of instances for each characterstics, lastly unstack to swtich columns and indexes\n",
    "no_show_chars_melt = df_apnt[['scholarship', 'hipertension', 'diabetes', 'alcoholism', 'handcap', 'sms_received',\n",
    "                     'no_show']].melt(id_vars=['no_show'], var_name='Chars', value_name='Value' )\\\n",
    "                     .query('Value == 1').groupby('Chars')['no_show'].value_counts(normalize=True).unstack()\n",
    "\n",
    "# plotting the chart\n",
    "no_show_chars_melt.plot(kind='bar', figsize=[10,5], rot=0, width=0.8)\n",
    "plt.title('Compare Different Characterstics of Not-Showing Appointments')\n",
    "plt.legend(['Showing', 'Not Showing'])\n",
    "plt.xlabel('Characteristic')\n",
    "plt.ylabel('Number of Not-Showing');\n"
   ]
  },
  {
   "cell_type": "markdown",
   "metadata": {},
   "source": [
    "### Remarks\n",
    "> It's shown clearly that the probablity that patients show in the appointments can be improved when they are under a scholarship, have hipertension, diabetes, alcoholism, or handcap, and when they receicev appointment messages."
   ]
  },
  {
   "cell_type": "markdown",
   "metadata": {},
   "source": [
    "<a id='conclusions'></a>\n",
    "## Conclusions\n",
    ">By analyzing this dataset \"No-Show Appointment\", we have come across interseting results.<br>\n",
    "<br>\n",
    "First, the rate of not-showing in the appointment tends to be higher if the appointment day was on weekend (Saturday) compared to other week days (exept Sundays, as there are no appointments on Sundays). The reason could be that patients go away on weekends. More research could be done here to find out why patients don't show on Saturdays.<br>\n",
    "<br>\n",
    "In addition, we found that the longer the period between the scheduling and appointment days is associated with higher rates of not-showing. One reason could be that patients forget about the appointment when there is a larg gap between the scheduling and appointment day.<br>\n",
    "<br>\n",
    "Also, we discovered double trends for the rate of not-showing, an uptrend and a downtrend. The uptrend starts a bit before 2016-05-01 until 2016-5-15 (almost two weeks) and then the downtrend continues until the end of the provided data.\n",
    "This can be a sign that the not-showing rate is going to decrease in future. To confirm that, more future data will be needed.<br>\n",
    "<br>\n",
    "Lastly, we have shown that some characterstics have a postivie impact on the showing rates of patients which are scholarship, hipertension, diabetes, alcoholism, handcap, sms_received. Having one or more of these characterstics can increase the probablity that patients will show in the appointment.\n",
    "\n",
    "## Limitations\n",
    "<ul>\n",
    "<li>As this data is a sample of 100,000 appointments, we cannot be certain that the conclusions reached will be true for other samples.\n",
    "<li>The conclusions are tentative as there have been no statistical inferences performed to confirm the results."
   ]
  }
 ],
 "metadata": {
  "kernelspec": {
   "display_name": "Python 3",
   "language": "python",
   "name": "python3"
  },
  "language_info": {
   "codemirror_mode": {
    "name": "ipython",
    "version": 3
   },
   "file_extension": ".py",
   "mimetype": "text/x-python",
   "name": "python",
   "nbconvert_exporter": "python",
   "pygments_lexer": "ipython3",
   "version": "3.6.3"
  }
 },
 "nbformat": 4,
 "nbformat_minor": 2
}
